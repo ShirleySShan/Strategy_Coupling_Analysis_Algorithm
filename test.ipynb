{
 "cells": [
  {
   "cell_type": "code",
   "execution_count": null,
   "metadata": {},
   "outputs": [],
   "source": []
  },
  {
   "cell_type": "code",
   "execution_count": 3,
   "metadata": {},
   "outputs": [
    {
     "name": "stderr",
     "output_type": "stream",
     "text": [
      "d:\\abed-1pop-master\\abed-1pop-master\\实验结果\\calculate.py:29: SettingWithCopyWarning: \n",
      "A value is trying to be set on a copy of a slice from a DataFrame.\n",
      "Try using .loc[row_indexer,col_indexer] = value instead\n",
      "\n",
      "See the caveats in the documentation: https://pandas.pydata.org/pandas-docs/stable/user_guide/indexing.html#returning-a-view-versus-a-copy\n",
      "  data[col] = data[col] - data[columns[i+1]]\n"
     ]
    },
    {
     "name": "stdout",
     "output_type": "stream",
     "text": [
      "[0.011380184382345499, -0.003084335596761517, -0.005757870462261767, -0.0025611901279707985, 2.3211804648732202e-05, 0.01239748759467267, -0.007352213110472614, 0.00017695795246800444, -0.002137896839905981, 0.014141581091668786, -0.0029639012797074834, 0.001932403760773054, 0.01755246800731281, -0.012204334552102507, 0.012386615826586463]\n"
     ]
    },
    {
     "data": {
      "text/plain": [
       "0.7113655169939781"
      ]
     },
     "execution_count": 3,
     "metadata": {},
     "output_type": "execute_result"
    }
   ],
   "source": [
    "#y5\n",
    "import pandas as pd\n",
    "from calculate import *\n",
    "sum_lst = calculate_real2('y5Strategy distributions1.csv',500)\n",
    "print(sum_lst)\n",
    "xmn = [0.5653,0.0799,-0.6292, 0.1447,-0.1607,0.8645,-0.7876,-0.4392, 0.2823, 1.2723,0.2153,-0.0709, 0.2847, -0.2055, 0.1548]\n",
    "data = pd.DataFrame(sum_lst,columns=['A'])\n",
    "data['B']=xmn\n",
    "data.A.corr(data.B)"
   ]
  },
  {
   "cell_type": "code",
   "execution_count": 44,
   "metadata": {},
   "outputs": [
    {
     "name": "stderr",
     "output_type": "stream",
     "text": [
      "d:\\abed-1pop-master\\abed-1pop-master\\实验结果\\calculate.py:29: SettingWithCopyWarning: \n",
      "A value is trying to be set on a copy of a slice from a DataFrame.\n",
      "Try using .loc[row_indexer,col_indexer] = value instead\n",
      "\n",
      "See the caveats in the documentation: https://pandas.pydata.org/pandas-docs/stable/user_guide/indexing.html#returning-a-view-versus-a-copy\n",
      "  data[col] = data[col] - data[columns[i+1]]\n"
     ]
    },
    {
     "name": "stdout",
     "output_type": "stream",
     "text": [
      "[9.515530045032822, -1.6411054441437918, -8.492997610166174, 0.6185730092771548, 5.497502955546965, -1.662386282566677, -2.1940112288364926, 9.518079469076147, 0.6373044236567423, 0.9381337959026175]\n"
     ]
    },
    {
     "data": {
      "text/plain": [
       "0.9999289344488402"
      ]
     },
     "execution_count": 44,
     "metadata": {},
     "output_type": "execute_result"
    }
   ],
   "source": [
    "#a4 4\n",
    "import pandas as pd\n",
    "from calculate import *\n",
    "sum_lst = calculate_real2('a4Strategy distributions.csv',500)\n",
    "print(sum_lst)\n",
    "xmn = [1.1848,-0.1997,-1.0649,0.0799,0.6656,-0.1997,-0.2662,1.1848,0.0799,0.1065]\n",
    "data = pd.DataFrame(sum_lst,columns=['A'])\n",
    "data['B']=xmn\n",
    "data.A.corr(data.B)"
   ]
  },
  {
   "cell_type": "code",
   "execution_count": 46,
   "metadata": {},
   "outputs": [
    {
     "name": "stdout",
     "output_type": "stream",
     "text": [
      "[262.87196074576457, -64.01307928101963, -170.64024428390186, -28.219344092529365, 200.99818464301845, -110.3643213183021, -26.62159150463128, 324.14493487255515, -43.139213081817246, 97.980507071346]\n"
     ]
    },
    {
     "data": {
      "text/plain": [
       "0.9453403926967813"
      ]
     },
     "execution_count": 46,
     "metadata": {},
     "output_type": "execute_result"
    }
   ],
   "source": [
    "#a4 4 真人\n",
    "import pandas as pd\n",
    "from calculate import *\n",
    "sum_lst = calculate_real('C:\\\\Users\\\\华为\\\\Desktop\\\\毕业论文\\\\A5仿真数据\\\\8A44.csv',0)\n",
    "print(sum_lst)\n",
    "xmn = [1.1848,-0.1997,-1.0649,0.0799,0.6656,-0.1997,-0.2662,1.1848,0.0799,0.1065]\n",
    "data = pd.DataFrame(sum_lst,columns=['A'])\n",
    "data['B']=xmn\n",
    "data.A.corr(data.B)"
   ]
  },
  {
   "cell_type": "code",
   "execution_count": 4,
   "metadata": {},
   "outputs": [
    {
     "name": "stderr",
     "output_type": "stream",
     "text": [
      "d:\\abed-1pop-master\\abed-1pop-master\\实验结果\\calculate.py:29: SettingWithCopyWarning: \n",
      "A value is trying to be set on a copy of a slice from a DataFrame.\n",
      "Try using .loc[row_indexer,col_indexer] = value instead\n",
      "\n",
      "See the caveats in the documentation: https://pandas.pydata.org/pandas-docs/stable/user_guide/indexing.html#returning-a-view-versus-a-copy\n",
      "  data[col] = data[col] - data[columns[i+1]]\n"
     ]
    },
    {
     "name": "stdout",
     "output_type": "stream",
     "text": [
      "[4.3075533466231075, 2.159221145276664, -2.8932764693877613, -3.5734980225121076, 7.481360321586417, 2.180073897959186, -11.820655364822224, 4.405148367346969, -3.6919457959183544, 19.086099183252873]\n"
     ]
    },
    {
     "data": {
      "text/plain": [
       "0.9999615264335727"
      ]
     },
     "execution_count": 4,
     "metadata": {},
     "output_type": "execute_result"
    }
   ],
   "source": [
    "#a4 1/4\n",
    "import pandas as pd\n",
    "from calculate import *\n",
    "sum_lst = calculate_real_from_abedcsv('a4_0.25 Strategy distributions.csv',500)\n",
    "print(sum_lst)\n",
    "xmn = [0.3860,0.1997,-0.2662,-0.3195,0.6656,0.1997,-1.0649,0.3860,-0.3195,1.7039]\n",
    "data = pd.DataFrame(sum_lst,columns=['A'])\n",
    "data['B']=xmn\n",
    "data.A.corr(data.B)\n",
    "#0.9999615264335727"
   ]
  },
  {
   "cell_type": "code",
   "execution_count": 49,
   "metadata": {},
   "outputs": [
    {
     "name": "stdout",
     "output_type": "stream",
     "text": [
      "[200.985710513622, -67.34426421945157, -44.70313860236593, -88.93897719177733, 235.3773906625831, -50.6177787863536, -117.41596087761837, 180.38393715317878, -85.06322057101643, 291.4196423897192]\n"
     ]
    },
    {
     "data": {
      "text/plain": [
       "0.8459071579514172"
      ]
     },
     "execution_count": 49,
     "metadata": {},
     "output_type": "execute_result"
    }
   ],
   "source": [
    "#a4 1/4 真人\n",
    "import pandas as pd\n",
    "from calculate import *\n",
    "sum_lst = calculate_real('C:\\\\Users\\\\华为\\\\Desktop\\\\毕业论文\\\\A5仿真数据\\\\8A25.csv',0)\n",
    "print(sum_lst)\n",
    "xmn = [    0.3860,0.1997,-0.2662,-0.3195,0.6656,0.1997,-1.0649,0.3860,-0.3195,1.7039]\n",
    "data = pd.DataFrame(sum_lst,columns=['A'])\n",
    "data['B']=xmn\n",
    "data.A.corr(data.B)\n"
   ]
  },
  {
   "cell_type": "code",
   "execution_count": 6,
   "metadata": {},
   "outputs": [
    {
     "name": "stdout",
     "output_type": "stream",
     "text": [
      "[3.613561891185646, 0.059615172482222104, -1.7999512181246944, -1.7377212316851316, -0.13550461385811205, 3.549732928725005, -0.005357388291715061, -1.7724194306267562, -1.8315712822887424, 3.692461378865462, -0.11437834132627758, -1.7727744311228735, 3.749478994542762, -0.1249599909045809, 3.864810318174316]\n"
     ]
    },
    {
     "data": {
      "text/plain": [
       "0.9397576279868604"
      ]
     },
     "execution_count": 6,
     "metadata": {},
     "output_type": "execute_result"
    }
   ],
   "source": [
    "#a5 4.236 mode1\n",
    "import pandas as pd\n",
    "from calculate import *\n",
    "sum_lst = calculate_real('C:\\\\Users\\\\华为\\\\Desktop\\\\毕业论文\\\\A5仿真数据\\\\Sexp4236_tial.csv',0)\n",
    "print(sum_lst)\n",
    "xmn = [  267.8108,82.7581,-216.6635,-216.6635,82.7581,267.8108,82.7581,-216.663,-216.6635,267.8108,82.7581,-216.6635,267.8108,82.7581,267.8108]\n",
    "data = pd.DataFrame(sum_lst,columns=['A'])\n",
    "data['B']=xmn\n",
    "data.A.corr(data.B)"
   ]
  },
  {
   "cell_type": "code",
   "execution_count": 9,
   "metadata": {},
   "outputs": [
    {
     "name": "stdout",
     "output_type": "stream",
     "text": [
      "[3.613561891185646, 0.059615172482222104, -1.7999512181246944, -1.7377212316851316, -0.13550461385811205, 3.549732928725005, -0.005357388291715061, -1.7724194306267562, -1.8315712822887424, 3.692461378865462, -0.11437834132627758, -1.7727744311228735, 3.749478994542762, -0.1249599909045809, 3.864810318174316]\n"
     ]
    },
    {
     "data": {
      "text/plain": [
       "0.5642173930773597"
      ]
     },
     "execution_count": 9,
     "metadata": {},
     "output_type": "execute_result"
    }
   ],
   "source": [
    "#a5 4.236 mode2\n",
    "import pandas as pd\n",
    "from calculate import *\n",
    "sum_lst = calculate_real('C:\\\\Users\\\\华为\\\\Desktop\\\\毕业论文\\\\A5仿真数据\\\\Sexp4236_tial.csv',0)\n",
    "print(sum_lst)\n",
    "xmn = [  29.7560,\n",
    "  -24.0731,\n",
    "    9.1951,\n",
    "    9.1951,\n",
    "  -24.0731,\n",
    "   29.7560,\n",
    "  -24.0731,\n",
    "    9.1951,\n",
    "    9.1951,\n",
    "   29.7560,\n",
    "  -24.0731,\n",
    "    9.1951,\n",
    "   29.7560,\n",
    "  -24.0731,\n",
    "   29.7560]\n",
    "data = pd.DataFrame(sum_lst,columns=['A'])\n",
    "data['B']=xmn\n",
    "data.A.corr(data.B)"
   ]
  },
  {
   "cell_type": "code",
   "execution_count": null,
   "metadata": {},
   "outputs": [],
   "source": []
  },
  {
   "cell_type": "code",
   "execution_count": 14,
   "metadata": {},
   "outputs": [
    {
     "name": "stdout",
     "output_type": "stream",
     "text": [
      "[3.6269606293160814, -2.254824838977423, 0.7441968647078355, 0.530534815903055, -2.646867470949533, 4.522070565073058, -2.548996268592296, 0.04906785292164653, 0.23268268957503474, 4.137041880312089, -2.866014118691903, 0.5337716422642756, 4.551680991865857, -2.2652695419986704, 4.145682681108859]\n"
     ]
    },
    {
     "data": {
      "text/plain": [
       "0.44221271379658295"
      ]
     },
     "execution_count": 14,
     "metadata": {},
     "output_type": "execute_result"
    }
   ],
   "source": [
    "#a5 -0.618 mode1\n",
    "import pandas as pd\n",
    "from calculate import *\n",
    "sum_lst = calculate_real('C:\\\\Users\\\\华为\\\\Desktop\\\\毕业论文\\\\A5仿真数据\\\\Sexp-0618_tial.csv',0)\n",
    "print(sum_lst)\n",
    "xmn =[    0.1313,\n",
    "    0.0406,\n",
    "   -0.1062,\n",
    "   -0.1062,\n",
    "    0.0406,\n",
    "    0.1313,\n",
    "    0.0406,\n",
    "   -0.1062,\n",
    "   -0.1062,\n",
    "    0.1313,\n",
    "    0.0406,\n",
    "   -0.1062,\n",
    "    0.1313,\n",
    "    0.0406,\n",
    "    0.1313]\n",
    "xmn = [1e-7 * i for i in xmn]\n",
    "data = pd.DataFrame(sum_lst,columns=['A'])\n",
    "data['B']=xmn\n",
    "data.A.corr(data.B)"
   ]
  },
  {
   "cell_type": "code",
   "execution_count": 20,
   "metadata": {},
   "outputs": [
    {
     "name": "stdout",
     "output_type": "stream",
     "text": [
      "[3.6269606293160814, -2.254824838977423, 0.7441968647078355, 0.530534815903055, -2.646867470949533, 4.522070565073058, -2.548996268592296, 0.04906785292164653, 0.23268268957503474, 4.137041880312089, -2.866014118691903, 0.5337716422642756, 4.551680991865857, -2.2652695419986704, 4.145682681108859]\n"
     ]
    },
    {
     "data": {
      "text/plain": [
       "0.973582790267426"
      ]
     },
     "execution_count": 20,
     "metadata": {},
     "output_type": "execute_result"
    }
   ],
   "source": [
    "#a5 -0.618 mode2\n",
    "import pandas as pd\n",
    "from calculate import *\n",
    "sum_lst = calculate_real('C:\\\\Users\\\\华为\\\\Desktop\\\\毕业论文\\\\A5仿真数据\\\\Sexp-0618_tial.csv',0)\n",
    "print(sum_lst)\n",
    "xmn = [   21.7072,\n",
    "  -17.5615,\n",
    "    6.7079,\n",
    "    6.7079,\n",
    "  -17.5615,\n",
    "   21.7072,\n",
    "  -17.5615,\n",
    "    6.7079,\n",
    "    6.7079,\n",
    "   21.7072,\n",
    "  -17.5615,\n",
    "    6.7079,\n",
    "   21.7072,\n",
    "  -17.5615,\n",
    "   21.7072]\n",
    "data = pd.DataFrame(sum_lst,columns=['A'])\n",
    "data['B']=xmn\n",
    "data.A.corr(data.B)"
   ]
  },
  {
   "cell_type": "code",
   "execution_count": 22,
   "metadata": {},
   "outputs": [
    {
     "name": "stdout",
     "output_type": "stream",
     "text": [
      "[2.524165407787932, -1.0715888447390194, -0.8332113126760529, 0.19927994896437437, -0.818645199337201, 2.793509337862487, -0.8884006676056326, -0.21226011532725708, -0.6212597101905553, 1.8835865408450452, -0.5833445126760584, 0.4213699521126777, 1.1168056195526315, -0.5204809405136692, 1.5390158979287567]\n"
     ]
    },
    {
     "data": {
      "text/plain": [
       "0.6103632704029124"
      ]
     },
     "execution_count": 22,
     "metadata": {},
     "output_type": "execute_result"
    }
   ],
   "source": [
    "#a5 -4.236\n",
    "import pandas as pd\n",
    "from calculate import *\n",
    "sum_lst = calculate_real('C:\\\\Users\\\\华为\\\\Desktop\\\\毕业论文\\\\A5仿真数据\\\\Sexp-4236_tial.csv',0)\n",
    "print(sum_lst)\n",
    "xmn = [148.7824,45.9763,-120.3675,-120.3675,45.9763,148.7824,45.9763,-120.3675,-120.3675,148.7824,45.9763,-120.3675,148.7824,45.9763,148.7824]\n",
    "data = pd.DataFrame(sum_lst,columns=['A'])\n",
    "data['B']=xmn\n",
    "data.A.corr(data.B)"
   ]
  },
  {
   "cell_type": "code",
   "execution_count": 24,
   "metadata": {},
   "outputs": [
    {
     "name": "stdout",
     "output_type": "stream",
     "text": [
      "[2.524165407787932, -1.0715888447390194, -0.8332113126760529, 0.19927994896437437, -0.818645199337201, 2.793509337862487, -0.8884006676056326, -0.21226011532725708, -0.6212597101905553, 1.8835865408450452, -0.5833445126760584, 0.4213699521126777, 1.1168056195526315, -0.5204809405136692, 1.5390158979287567]\n"
     ]
    },
    {
     "data": {
      "text/plain": [
       "0.8332979131025332"
      ]
     },
     "execution_count": 24,
     "metadata": {},
     "output_type": "execute_result"
    }
   ],
   "source": [
    "#a5 -4.236 mode2\n",
    "import pandas as pd\n",
    "from calculate import *\n",
    "sum_lst = calculate_real('C:\\\\Users\\\\华为\\\\Desktop\\\\毕业论文\\\\A5仿真数据\\\\Sexp-4236_tial.csv',0)\n",
    "print(sum_lst)\n",
    "xmn = [  148.7845,-120.3692,\n",
    "   45.9769,\n",
    "   45.9769,\n",
    " -120.3692,\n",
    "  148.7845,\n",
    " -120.3692,\n",
    "   45.9769,\n",
    "   45.9769,\n",
    "  148.7845,\n",
    " -120.3692,\n",
    "   45.9769,\n",
    "  148.7845,\n",
    " -120.3692,\n",
    "  148.7845]\n",
    "data = pd.DataFrame(sum_lst,columns=['A'])\n",
    "data['B']=xmn\n",
    "data.A.corr(data.B)"
   ]
  },
  {
   "cell_type": "code",
   "execution_count": 14,
   "metadata": {},
   "outputs": [
    {
     "name": "stdout",
     "output_type": "stream",
     "text": [
      "[13.455440904501504, 2.1018807257530785, -8.53848711552467, -8.624938257696163, 1.6061037429659082, 11.637609879675813, 1.8338759420721629, -7.683922819761684, -7.889443727739162, 13.290241655743218, 1.0712678997020733, -7.656898381992692, 13.484371306355332, 1.7532218714001988, 12.187016495365556]\n"
     ]
    },
    {
     "data": {
      "text/plain": [
       "0.983001019204125"
      ]
     },
     "execution_count": 14,
     "metadata": {},
     "output_type": "execute_result"
    }
   ],
   "source": [
    "#a5 1.618\n",
    "import pandas as pd\n",
    "from calculate import *\n",
    "from from_eigenvector_out_XY import *\n",
    "sum_lst = calculate_real('C:\\\\Users\\\\华为\\\\Desktop\\\\毕业论文\\\\A5仿真数据\\\\Sexp1618_tial.csv',0)\n",
    "print(sum_lst)\n",
    "xmn = [   56.8302,\n",
    "   17.5615,\n",
    "  -45.9766,\n",
    "  -45.9766,\n",
    "   17.5615,\n",
    "   56.8302,\n",
    "   17.5615,\n",
    "  -45.9766,\n",
    "  -45.9766,\n",
    "   56.8302,\n",
    "   17.5615,\n",
    "  -45.9766,\n",
    "   56.8302,\n",
    "   17.5615,\n",
    "   56.8302]\n",
    "xmn = A5_matrix_X(1.618,4)\n",
    "data = pd.DataFrame(sum_lst,columns=['A'])\n",
    "data['B']=xmn\n",
    "data.A.corr(data.B)"
   ]
  },
  {
   "cell_type": "code",
   "execution_count": 29,
   "metadata": {},
   "outputs": [
    {
     "name": "stdout",
     "output_type": "stream",
     "text": [
      "[13.455440904501504, 2.1018807257530785, -8.53848711552467, -8.624938257696163, 1.6061037429659082, 11.637609879675813, 1.8338759420721629, -7.683922819761684, -7.889443727739162, 13.290241655743218, 1.0712678997020733, -7.656898381992692, 13.484371306355332, 1.7532218714001988, 12.187016495365556]\n"
     ]
    },
    {
     "data": {
      "text/plain": [
       "0.41279996837420124"
      ]
     },
     "execution_count": 29,
     "metadata": {},
     "output_type": "execute_result"
    }
   ],
   "source": [
    "#a5 1.618 mode2\n",
    "import pandas as pd\n",
    "from calculate import *\n",
    "sum_lst = calculate_real('C:\\\\Users\\\\华为\\\\Desktop\\\\毕业论文\\\\A5仿真数据\\\\Sexp1618_tial.csv',0)\n",
    "print(sum_lst)\n",
    "xmn = [      0.5016,\n",
    "   -0.4058,\n",
    "    0.1550,\n",
    "    0.1550,\n",
    "   -0.4058,\n",
    "    0.5016,\n",
    "   -0.4058,\n",
    "    0.1550,\n",
    "    0.1550,\n",
    "    0.5016,\n",
    "   -0.4058,\n",
    "    0.1550,\n",
    "    0.5016,\n",
    "   -0.4058,\n",
    "    0.5016]\n",
    "xmn = [1e-8 * i for i in xmn]\n",
    "data = pd.DataFrame(sum_lst,columns=['A'])\n",
    "data['B']=xmn\n",
    "data.A.corr(data.B)"
   ]
  },
  {
   "cell_type": "code",
   "execution_count": 10,
   "metadata": {},
   "outputs": [
    {
     "name": "stdout",
     "output_type": "stream",
     "text": [
      "[2.6003214198042777, -1.2318324644219614, -0.27886100464421965, -0.37287415906451965, -0.7167537916735761, 1.9359552360258996, -0.3986398676397405, -0.2620419666611368, -0.043440937303035464, 1.9819153813236037, -1.2648976896666138, -0.03951681937303017, 2.567865878918549, -0.6680520635262899, 1.4677636118759383]\n"
     ]
    },
    {
     "data": {
      "text/plain": [
       "0.6239126381101029"
      ]
     },
     "execution_count": 10,
     "metadata": {},
     "output_type": "execute_result"
    }
   ],
   "source": [
    "#a5 0.234\n",
    "import pandas as pd\n",
    "from calculate import *\n",
    "from from_eigenvector_out_XY import *\n",
    "\n",
    "sum_lst = calculate_real('C:\\\\Users\\\\华为\\\\Desktop\\\\毕业论文\\\\A5仿真数据\\\\Sexp0234_tial.csv',0)\n",
    "print(sum_lst)\n",
    "xmn = [       8.2516,\n",
    "    2.5499,\n",
    "   -6.6757,\n",
    "   -6.6757,\n",
    "    2.5499,\n",
    "    8.2516,\n",
    "    2.5499,\n",
    "   -6.6757,\n",
    "   -6.6757,\n",
    "    8.2516,\n",
    "    2.5499,\n",
    "   -6.6757,\n",
    "    8.2516,\n",
    "    2.5499,\n",
    "    8.2516]\n",
    "xmn = A5_matrix_X(0.234,4)\n",
    "print(xmn)\n",
    "data = pd.DataFrame(sum_lst,columns=['A'])\n",
    "data['B']=xmn\n",
    "data.A.corr(data.B)"
   ]
  },
  {
   "cell_type": "code",
   "execution_count": 8,
   "metadata": {},
   "outputs": [
    {
     "name": "stdout",
     "output_type": "stream",
     "text": [
      "[2.6003214198042777, -1.2318324644219614, -0.27886100464421965, -0.37287415906451965, -0.7167537916735761, 1.9359552360258996, -0.3986398676397405, -0.2620419666611368, -0.043440937303035464, 1.9819153813236037, -1.2648976896666138, -0.03951681937303017, 2.567865878918549, -0.6680520635262899, 1.4677636118759383]\n"
     ]
    },
    {
     "data": {
      "text/plain": [
       "0.8740089018080068"
      ]
     },
     "execution_count": 8,
     "metadata": {},
     "output_type": "execute_result"
    }
   ],
   "source": [
    "#a5 0.234 mode2\n",
    "import pandas as pd\n",
    "from calculate import *\n",
    "from from_eigenvector_out_XY import *\n",
    "\n",
    "sum_lst = calculate_real('C:\\\\Users\\\\华为\\\\Desktop\\\\毕业论文\\\\A5仿真数据\\\\Sexp0234_tial.csv',0)\n",
    "print(sum_lst)\n",
    "xmn = [       8.3165,\n",
    "   -6.7282,\n",
    "    2.5699,\n",
    "    2.5699,\n",
    "   -6.7282,\n",
    "    8.3165,\n",
    "   -6.7282,\n",
    "    2.5699,\n",
    "    2.5699,\n",
    "    8.3165,\n",
    "   -6.7282,\n",
    "    2.5699,\n",
    "    8.3165,\n",
    "   -6.7282,\n",
    "    8.3165]\n",
    "xmn = A5_matrix_X(0.234,3)\n",
    "data = pd.DataFrame(sum_lst,columns=['A'])\n",
    "data['B']=xmn\n",
    "data.A.corr(data.B)"
   ]
  },
  {
   "cell_type": "code",
   "execution_count": 16,
   "metadata": {},
   "outputs": [
    {
     "name": "stdout",
     "output_type": "stream",
     "text": [
      "0       0.187\n",
      "1       0.185\n",
      "2       0.184\n",
      "3       0.184\n",
      "4       0.184\n",
      "        ...  \n",
      "6024    0.219\n",
      "6025    0.214\n",
      "6026    0.215\n",
      "6027    0.211\n",
      "6028    0.210\n",
      "Name: A, Length: 6029, dtype: float64\n",
      "0       0.187\n",
      "1       0.185\n",
      "2       0.184\n",
      "3       0.184\n",
      "4       0.184\n",
      "        ...  \n",
      "6024    0.219\n",
      "6025    0.214\n",
      "6026    0.215\n",
      "6027    0.211\n",
      "6028    0.210\n",
      "Name: B, Length: 6029, dtype: float64\n",
      "0       0.202\n",
      "1       0.203\n",
      "2       0.202\n",
      "3       0.203\n",
      "4       0.203\n",
      "        ...  \n",
      "6024    0.195\n",
      "6025    0.195\n",
      "6026    0.197\n",
      "6027    0.199\n",
      "6028    0.198\n",
      "Name: B, Length: 6029, dtype: float64\n",
      "0       0.188\n",
      "1       0.190\n",
      "2       0.192\n",
      "3       0.192\n",
      "4       0.191\n",
      "        ...  \n",
      "6024    0.156\n",
      "6025    0.157\n",
      "6026    0.154\n",
      "6027    0.152\n",
      "6028    0.154\n",
      "Name: B, Length: 6029, dtype: float64\n",
      "0       0.213\n",
      "1       0.211\n",
      "2       0.210\n",
      "3       0.210\n",
      "4       0.210\n",
      "        ...  \n",
      "6024    0.245\n",
      "6025    0.247\n",
      "6026    0.247\n",
      "6027    0.249\n",
      "6028    0.250\n",
      "Name: B, Length: 6029, dtype: float64\n",
      "0       0.210\n",
      "1       0.211\n",
      "2       0.212\n",
      "3       0.211\n",
      "4       0.212\n",
      "        ...  \n",
      "6024    0.185\n",
      "6025    0.187\n",
      "6026    0.187\n",
      "6027    0.189\n",
      "6028    0.188\n",
      "Name: B, Length: 6029, dtype: float64\n",
      "0       0.202\n",
      "1       0.203\n",
      "2       0.202\n",
      "3       0.203\n",
      "4       0.203\n",
      "        ...  \n",
      "6024    0.195\n",
      "6025    0.195\n",
      "6026    0.197\n",
      "6027    0.199\n",
      "6028    0.198\n",
      "Name: A, Length: 6029, dtype: float64\n",
      "0       0.202\n",
      "1       0.203\n",
      "2       0.202\n",
      "3       0.203\n",
      "4       0.203\n",
      "        ...  \n",
      "6024    0.195\n",
      "6025    0.195\n",
      "6026    0.197\n",
      "6027    0.199\n",
      "6028    0.198\n",
      "Name: B, Length: 6029, dtype: float64\n",
      "0       0.188\n",
      "1       0.190\n",
      "2       0.192\n",
      "3       0.192\n",
      "4       0.191\n",
      "        ...  \n",
      "6024    0.156\n",
      "6025    0.157\n",
      "6026    0.154\n",
      "6027    0.152\n",
      "6028    0.154\n",
      "Name: B, Length: 6029, dtype: float64\n",
      "0       0.213\n",
      "1       0.211\n",
      "2       0.210\n",
      "3       0.210\n",
      "4       0.210\n",
      "        ...  \n",
      "6024    0.245\n",
      "6025    0.247\n",
      "6026    0.247\n",
      "6027    0.249\n",
      "6028    0.250\n",
      "Name: B, Length: 6029, dtype: float64\n",
      "0       0.210\n",
      "1       0.211\n",
      "2       0.212\n",
      "3       0.211\n",
      "4       0.212\n",
      "        ...  \n",
      "6024    0.185\n",
      "6025    0.187\n",
      "6026    0.187\n",
      "6027    0.189\n",
      "6028    0.188\n",
      "Name: B, Length: 6029, dtype: float64\n",
      "0       0.188\n",
      "1       0.190\n",
      "2       0.192\n",
      "3       0.192\n",
      "4       0.191\n",
      "        ...  \n",
      "6024    0.156\n",
      "6025    0.157\n",
      "6026    0.154\n",
      "6027    0.152\n",
      "6028    0.154\n",
      "Name: A, Length: 6029, dtype: float64\n",
      "0       0.188\n",
      "1       0.190\n",
      "2       0.192\n",
      "3       0.192\n",
      "4       0.191\n",
      "        ...  \n",
      "6024    0.156\n",
      "6025    0.157\n",
      "6026    0.154\n",
      "6027    0.152\n",
      "6028    0.154\n",
      "Name: B, Length: 6029, dtype: float64\n",
      "0       0.213\n",
      "1       0.211\n",
      "2       0.210\n",
      "3       0.210\n",
      "4       0.210\n",
      "        ...  \n",
      "6024    0.245\n",
      "6025    0.247\n",
      "6026    0.247\n",
      "6027    0.249\n",
      "6028    0.250\n",
      "Name: B, Length: 6029, dtype: float64\n",
      "0       0.210\n",
      "1       0.211\n",
      "2       0.212\n",
      "3       0.211\n",
      "4       0.212\n",
      "        ...  \n",
      "6024    0.185\n",
      "6025    0.187\n",
      "6026    0.187\n",
      "6027    0.189\n",
      "6028    0.188\n",
      "Name: B, Length: 6029, dtype: float64\n",
      "0       0.213\n",
      "1       0.211\n",
      "2       0.210\n",
      "3       0.210\n",
      "4       0.210\n",
      "        ...  \n",
      "6024    0.245\n",
      "6025    0.247\n",
      "6026    0.247\n",
      "6027    0.249\n",
      "6028    0.250\n",
      "Name: A, Length: 6029, dtype: float64\n",
      "0       0.213\n",
      "1       0.211\n",
      "2       0.210\n",
      "3       0.210\n",
      "4       0.210\n",
      "        ...  \n",
      "6024    0.245\n",
      "6025    0.247\n",
      "6026    0.247\n",
      "6027    0.249\n",
      "6028    0.250\n",
      "Name: B, Length: 6029, dtype: float64\n",
      "0       0.210\n",
      "1       0.211\n",
      "2       0.212\n",
      "3       0.211\n",
      "4       0.212\n",
      "        ...  \n",
      "6024    0.185\n",
      "6025    0.187\n",
      "6026    0.187\n",
      "6027    0.189\n",
      "6028    0.188\n",
      "Name: B, Length: 6029, dtype: float64\n",
      "0       0.210\n",
      "1       0.211\n",
      "2       0.212\n",
      "3       0.211\n",
      "4       0.212\n",
      "        ...  \n",
      "6024    0.185\n",
      "6025    0.187\n",
      "6026    0.187\n",
      "6027    0.189\n",
      "6028    0.188\n",
      "Name: A, Length: 6029, dtype: float64\n",
      "0       0.210\n",
      "1       0.211\n",
      "2       0.212\n",
      "3       0.211\n",
      "4       0.212\n",
      "        ...  \n",
      "6024    0.185\n",
      "6025    0.187\n",
      "6026    0.187\n",
      "6027    0.189\n",
      "6028    0.188\n",
      "Name: B, Length: 6029, dtype: float64\n"
     ]
    }
   ],
   "source": [
    "import pandas as pd\n",
    "from calculate import *\n",
    "from from_eigenvector_out_XY import *\n",
    "csv_name = 'C:\\\\Users\\\\华为\\\\Desktop\\\\毕业论文\\\\A5仿真数据\\\\Sexp0234_tial.csv'\n",
    "start_round = 0\n",
    "data = pd.read_csv(csv_name)\n",
    "start = start_round\n",
    "data = data[start:len(data)]\n",
    "avg = data.mean().tolist()\n",
    "sum_lst = []\n",
    "for i in range(len(data.iloc[0])):\n",
    "    data2 = pd.DataFrame(data.iloc[:,i],columns=['A'])\n",
    "    data2['A'] = data.iloc[:,i]\n",
    "    print(data2.A)\n",
    "    for j in range(i,len(data.iloc[0])):\n",
    "        data2['B']=data.iloc[:,j]\n",
    "        print(data2.B)\n",
    "        t = data2.A.cov(data2.B)\n",
    "        sum_lst.append(t)\n"
   ]
  },
  {
   "cell_type": "code",
   "execution_count": 50,
   "metadata": {},
   "outputs": [
    {
     "data": {
      "image/png": "[encoded data removed]",
      "text/plain": [
       "<Figure size 432x432 with 1 Axes>"
      ]
     },
     "metadata": {
      "needs_background": "light"
     },
     "output_type": "display_data"
    }
   ],
   "source": [
    "import numpy as np\n",
    "import matplotlib.pyplot as plt\n",
    "\n",
    "# 定义直线拟合函数\n",
    "def linear_regression(x, y): \n",
    "    N = len(x)\n",
    "    sumx = x.sum()\n",
    "    sumy = y.sum()\n",
    "    sumx2 = (x**2).sum()\n",
    "    sumxy = (x*y).sum()\n",
    "\n",
    "    A = np.mat([[N, sumx], [sumx, sumx2]])\n",
    "    b = np.array([sumy, sumxy])\n",
    " \n",
    "    return np.linalg.solve(A, b)\n",
    "\n",
    "for i in A5_a_value_list:\n",
    "    A5_a_value = i\n",
    "    result_csv_name = '.\\\\result\\\\A5_' + (str)(A5_a_value) + '_result.csv'\n",
    "    data = pd.read_csv(result_csv_name)\n",
    "    X,Y = np.array(xmn1),np.array(sum_lst)\n",
    "a10, a11 = linear_regression(X, Y)\n",
    " \n",
    "# 生成拟合直线的绘制点\n",
    "_Y1 = np.array([a10 + a11 * x for x in X])\n",
    "\n",
    "# 画图\n",
    "plt.figure(figsize=(6,6))\n",
    "plt.scatter(X,Y)\n",
    "plt.plot(X, _Y1, 'red', linewidth=2) \n",
    "plt.title(\"A5 a = {} , mode1: y = {}x + {}\".format(A5_a_value ,round(a11,10), round(a10,10)))\n",
    "#plt.title(\"y = {} + {}x\".format(a10, a11)) # 标题\n",
    "plt.show()"
   ]
  },
  {
   "cell_type": "code",
   "execution_count": 26,
   "metadata": {},
   "outputs": [
    {
     "name": "stderr",
     "output_type": "stream",
     "text": [
      "C:\\Users\\华为\\AppData\\Local\\Temp\\ipykernel_21624\\1180931865.py:8: SettingWithCopyWarning: \n",
      "A value is trying to be set on a copy of a slice from a DataFrame.\n",
      "Try using .loc[row_indexer,col_indexer] = value instead\n",
      "\n",
      "See the caveats in the documentation: https://pandas.pydata.org/pandas-docs/stable/user_guide/indexing.html#returning-a-view-versus-a-copy\n",
      "  data[col] = data[col] - data[columns[i+1]]\n"
     ]
    }
   ],
   "source": [
    "import pandas as pd\n",
    "\n",
    "csv_name = 'D:\\\\abed-1pop-master\\\\abed-1pop-master\\\\实验结果\\\\a4_0.25 Strategy distributions.csv'\n",
    "df = pd.read_csv(csv_name)\n",
    "data = df[['y','y.1','y.2','y.3']]\n",
    "columns = data.columns.tolist()\n",
    "for i,col in enumerate(columns[:-1]):\n",
    "    data[col] = data[col] - data[columns[i+1]]\n",
    "data.to_csv('D:\\\\abed-1pop-master\\\\abed-1pop-master\\\\实验结果\\\\a4_0.25 Strategy distributions new.csv')"
   ]
  },
  {
   "cell_type": "code",
   "execution_count": 6,
   "metadata": {},
   "outputs": [
    {
     "name": "stdout",
     "output_type": "stream",
     "text": [
      "[ 1.  1. -2.  1. -1.  1.]\n",
      "[ 1.26433288 -0.56158142  0.53693056]\n"
     ]
    },
    {
     "data": {
      "image/png": "[encoded data removed]",
      "text/plain": [
       "<Figure size 720x360 with 1 Axes>"
      ]
     },
     "metadata": {
      "needs_background": "light"
     },
     "output_type": "display_data"
    }
   ],
   "source": [
    "import numpy as np\n",
    "import matplotlib.pyplot as plt\n",
    "from numpy.linalg import lstsq\n",
    "plt.rcParams[\"font.sans-serif\"] = [\"SimHei\"]\n",
    "plt.rcParams[\"axes.unicode_minus\"] = False\n",
    "\n",
    "# 1. 造50对数据\n",
    "np.random.seed(0)\n",
    "x_1 = np.random.rand(50).reshape(50, -1)\n",
    "x_2 = np.random.rand(50).reshape(50, -1)\n",
    "y_t = 1 + x_1 + -2 * x_1 ** 2 + x_2 + -1 * x_2 ** 2 + x_1*x_2  # + np.random.rand(50).reshape(50, -1) / 3\n",
    "\n",
    "# 2. 尝试求解 以及 可视化\n",
    "fig = plt.figure(figsize=(10, 5))\n",
    "m = np.ones(x_1.shape)\n",
    "m = np.hstack((m, x_1, x_1 ** 2, x_2, x_2 ** 2, x_1*x_2))\n",
    "k = lstsq(m, y_t, rcond=None)[0].reshape(-1)\n",
    "print(k)\n",
    "\n",
    "\n",
    "# 3. 增加一个对比 二元线性回归\n",
    "ax = fig.add_subplot(1, 2, 1, projection='3d')\n",
    "ax.scatter(x_1.reshape(-1), x_2.reshape(-1), y_t.reshape(-1), c='red', s=20, label='标签')\n",
    "m = np.ones(x_1.shape)\n",
    "m = np.hstack((m, x_1, x_2))\n",
    "k = lstsq(m, y_t, rcond=None)[0].reshape(-1)\n",
    "print(k)\n",
    "x1 = np.linspace(0, 1, 100)\n",
    "x2 = np.linspace(0, 1, 100)\n",
    "x, y =np.meshgrid(x1, x2)\n",
    "z = k[0] + k[1] * x + k[2] * y\n",
    "ax.plot_surface(x, y, z,rstride=4,cstride=4,alpha=0.6)\n",
    "ax.legend()\n",
    "ax.set_title('二元线性归回')\n",
    "ax.view_init(12,-78)\n",
    "\n",
    "plt.show()"
   ]
  }
 ],
 "metadata": {
  "kernelspec": {
   "display_name": "Python 3.9.12 ('base')",
   "language": "python",
   "name": "python3"
  },
  "language_info": {
   "codemirror_mode": {
    "name": "ipython",
    "version": 3
   },
   "file_extension": ".py",
   "mimetype": "text/x-python",
   "name": "python",
   "nbconvert_exporter": "python",
   "pygments_lexer": "ipython3",
   "version": "3.9.12"
  },
  "orig_nbformat": 4,
  "vscode": {
   "interpreter": {
    "hash": "e42634819b8c191a5d07eaf23810ff32516dd8d3875f28ec3e488928fbd3c187"
   }
  }
 },
 "nbformat": 4,
 "nbformat_minor": 2
}
