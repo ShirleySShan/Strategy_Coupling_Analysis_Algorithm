{
 "cells": [
  {
   "attachments": {},
   "cell_type": "markdown",
   "metadata": {},
   "source": [
    "## 计算\n",
    "\n",
    "调用calculate_real_from_csv()计算策略之前协方差。\n",
    "\n",
    "调用Y5_matrix_X()计算Y5矩阵的实耦合。无需参数\n",
    "\n",
    "计算实耦合与协方差之间的相关系数"
   ]
  },
  {
   "cell_type": "code",
   "execution_count": 11,
   "metadata": {},
   "outputs": [
    {
     "name": "stdout",
     "output_type": "stream",
     "text": [
      "csv result : [2.9699548588249494e-06, -8.055713878597927e-07, -1.5016735837457805e-06, -6.688324849402007e-07, 6.122597720802772e-09, 3.23862448940817e-06, -1.9207751496152837e-06, 4.621449605775443e-08, -5.584924479908829e-07, 3.692158314307252e-06, -7.744674613391502e-07, 5.04757880392951e-07, 4.585265352148745e-06, -3.1881799019270967e-06, 3.2357918718042458e-06]\n",
      "eigen vector result : [0.5653071059223417, 0.07995244435363222, -0.6292088129864001, 0.14467405784568063, -0.16072440525378923, 0.8644739172076765, -0.7875824527152797, -0.43919124096502965, 0.28234499927497486, 1.272357523552386, 0.2153465325929679, -0.07091126905861196, 0.28466821673883996, -0.20549617987956587, 0.1547858901685497]\n",
      "the correlation coefficient is : 0.7112050815405423\n"
     ]
    }
   ],
   "source": [
    "import pandas as pd\n",
    "from calculate import *\n",
    "from from_eigenvector_out_XY import *\n",
    "\n",
    "#A5 = Matrix([[0, 3, 4, 11, 11],\n",
    "#             [5, 0, 2, 11, 12],\n",
    "#             [2, 5, 0, 9, 12],\n",
    "#             [6, 10, 10, 0, 3],\n",
    "#             [10, 10, 10, 4, 0]])\n",
    "\n",
    "#the csv file path\n",
    "Y5_csv_name = '.\\\\data\\\\Y5_Strategy_distributions.csv'\n",
    "\n",
    "#the start for calculating , The data before the start_round will be truncated when calculating\n",
    "start_round = 500\n",
    "\n",
    "#calculate_real_from_csv(csv_name,start_round):\n",
    "sum_lst = calculate_real_from_csv(Y5_csv_name,start_round)\n",
    "print(\"csv result :\",sum_lst)\n",
    "\n",
    "#A5_matrix_X(a_value,mode_col):\n",
    "xmn1 = Y5_matrix_X()\n",
    "print(\"eigen vector result :\",xmn1)\n",
    "\n",
    "#calculate the correlation coefficient\n",
    "data = pd.DataFrame(sum_lst,columns=['A'])\n",
    "data['B']=xmn1\n",
    "cor1 = data.A.corr(data.B)\n",
    "\n",
    "print(\"the correlation coefficient is :\" ,cor1)\n",
    "\n",
    "result = pd.DataFrame()\n",
    "result['from_csv'] = sum_lst\n",
    "result['from_matrix'] = xmn1\n",
    "result.to_csv('.\\\\result\\\\Y5_result.csv')\n"
   ]
  },
  {
   "attachments": {},
   "cell_type": "markdown",
   "metadata": {},
   "source": [
    "## 数据分析\n",
    "\n",
    "进行线性回归,绘制协方差和实耦合之间的拟合直线"
   ]
  },
  {
   "cell_type": "code",
   "execution_count": 12,
   "metadata": {},
   "outputs": [
    {
     "data": {
      "image/png": "[encoded data removed]",
      "text/plain": [
       "<Figure size 432x432 with 1 Axes>"
      ]
     },
     "metadata": {
      "needs_background": "light"
     },
     "output_type": "display_data"
    }
   ],
   "source": [
    "import numpy as np\n",
    "import matplotlib.pyplot as plt\n",
    "\n",
    "# 定义直线拟合函数\n",
    "def linear_regression(x, y): \n",
    "    N = len(x)\n",
    "    sumx = x.sum()\n",
    "    sumy = y.sum()\n",
    "    sumx2 = (x**2).sum()\n",
    "    sumxy = (x*y).sum()\n",
    "\n",
    "    A = np.mat([[N, sumx], [sumx, sumx2]])\n",
    "    b = np.array([sumy, sumxy])\n",
    " \n",
    "    return np.linalg.solve(A, b)\n",
    "\n",
    "X,Y = np.array(xmn1),np.array(sum_lst)\n",
    "a10, a11 = linear_regression(X, Y)\n",
    " \n",
    "# 生成拟合直线的绘制点\n",
    "_Y1 = np.array([a10 + a11 * x for x in X])\n",
    "\n",
    "# 画图\n",
    "fig = plt.figure(figsize=(6,6))\n",
    "plt.scatter(X,Y)\n",
    "plt.plot(X, _Y1, 'red', linewidth=2) \n",
    "plt.title(\"Y5 : y = {}x + {}\".format(round(a11,10), round(a10,10)))\n",
    "#plt.title(\"y = {} + {}x\".format(a10, a11)) # 标题\n",
    "plt.show()\n",
    "fig_name = \".\\\\figure\\\\Y5.png\"\n",
    "fig.savefig(fig_name)"
   ]
  }
 ],
 "metadata": {
  "kernelspec": {
   "display_name": "base",
   "language": "python",
   "name": "python3"
  },
  "language_info": {
   "codemirror_mode": {
    "name": "ipython",
    "version": 3
   },
   "file_extension": ".py",
   "mimetype": "text/x-python",
   "name": "python",
   "nbconvert_exporter": "python",
   "pygments_lexer": "ipython3",
   "version": "3.9.12"
  },
  "orig_nbformat": 4
 },
 "nbformat": 4,
 "nbformat_minor": 2
}
