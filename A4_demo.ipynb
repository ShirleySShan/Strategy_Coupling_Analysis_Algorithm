{
 "cells": [
  {
   "attachments": {},
   "cell_type": "markdown",
   "metadata": {},
   "source": [
    "## 计算 a = 4\n",
    "\n",
    "调用calculate_real_from_csv()计算策略之前协方差。\n",
    "\n",
    "调用A4_matrix_X()计算A4矩阵的实耦合。参数a = 4\n",
    "\n",
    "计算实耦合与协方差之间的相关系数"
   ]
  },
  {
   "cell_type": "code",
   "execution_count": 12,
   "metadata": {},
   "outputs": [
    {
     "name": "stdout",
     "output_type": "stream",
     "text": [
      "csv result : [0.0018389485069261523, -0.00031743152300590905, -0.0016411667145678945, 0.00011964973064764115, 0.001062661784715499, -0.0003211293096106496, -0.0004241009520989399, 0.001839186520263185, 0.00012310950391535065, 0.000181341717535949]\n",
      "eigen vector result : [1.184753161735134, -0.1996774991688427, -1.0649466622338282, 0.07987099966753712, 0.6655916638961425, -0.19967749916884253, -0.26623666555845704, 1.184753161735134, 0.07987099966753712, 0.10649466622338281]\n",
      "the correlation coefficient is : 0.999927846143671\n"
     ]
    }
   ],
   "source": [
    "import pandas as pd\n",
    "from calculate import *\n",
    "from from_eigenvector_out_XY import *\n",
    "\n",
    "#A4 = Matrix([[0, 0, 0, a],\n",
    "#             [1, 0, 0, 0], \n",
    "#             [0, 1, 0, 0], \n",
    "#             [0, 0, 1, 0]])\n",
    "\n",
    "\n",
    "\n",
    "#the value for a , support in range[0.25,4]\n",
    "\n",
    "A4_a_value = 4\n",
    "\n",
    "#the csv file path\n",
    "A4_csv_name = '.\\\\data\\\\A4_'+(str)(A4_a_value)+'_Strategy_distributions.csv'\n",
    "\n",
    "#the start for calculating , The data before the start_round will be truncated when calculating\n",
    "start_round = 500\n",
    "\n",
    "#calculate_real_from_csv(csv_name,start_round):\n",
    "sum_lst = calculate_real_from_csv(A4_csv_name,start_round)\n",
    "print(\"csv result :\",sum_lst)\n",
    "\n",
    "#A5_matrix_X(a_value,mode_col):\n",
    "xmn1 = A4_matrix_X(A4_a_value)\n",
    "print(\"eigen vector result :\",xmn1)\n",
    "\n",
    "\n",
    "#calculate the correlation coefficient\n",
    "data = pd.DataFrame(sum_lst,columns=['A'])\n",
    "data['B']=xmn1\n",
    "cor1 = data.A.corr(data.B)\n",
    "print(\"the correlation coefficient is :\" ,cor1)\n",
    "\n",
    "result = pd.DataFrame()\n",
    "result[(str)(A4_a_value) + '_from_csv'] = sum_lst\n",
    "result[(str)(A4_a_value) + '_from_matrix'] = xmn1\n",
    "result.to_csv('.\\\\result\\\\A4_' + (str)(A4_a_value) + '_result.csv')"
   ]
  },
  {
   "attachments": {},
   "cell_type": "markdown",
   "metadata": {},
   "source": [
    "## 数据分析 a = 4\n",
    "\n",
    "进行线性回归,绘制协方差和实耦合之间的拟合直线"
   ]
  },
  {
   "cell_type": "code",
   "execution_count": 17,
   "metadata": {},
   "outputs": [
    {
     "data": {
      "image/png": "[encoded data removed]",
      "text/plain": [
       "<Figure size 432x432 with 1 Axes>"
      ]
     },
     "metadata": {
      "needs_background": "light"
     },
     "output_type": "display_data"
    }
   ],
   "source": [
    "import numpy as np\n",
    "import matplotlib.pyplot as plt\n",
    "\n",
    "# 定义直线拟合函数\n",
    "def linear_regression(x, y): \n",
    "    N = len(x)\n",
    "    sumx = x.sum()\n",
    "    sumy = y.sum()\n",
    "    sumx2 = (x**2).sum()\n",
    "    sumxy = (x*y).sum()\n",
    "\n",
    "    A = np.mat([[N, sumx], [sumx, sumx2]])\n",
    "    b = np.array([sumy, sumxy])\n",
    " \n",
    "    return np.linalg.solve(A, b)\n",
    "A4_a_value = 4\n",
    "X,Y = np.array(xmn1),np.array(sum_lst)\n",
    "a10, a11 = linear_regression(X, Y)\n",
    " \n",
    "# 生成拟合直线的绘制点\n",
    "_Y1 = np.array([a10 + a11 * x for x in X])\n",
    "\n",
    "# 画图\n",
    "fig = plt.figure(figsize=(6,6))\n",
    "plt.scatter(X,Y)\n",
    "plt.plot(X, _Y1, 'red', linewidth=2) \n",
    "plt.title(\"A4 a = {} : y = {}x + {}\".format(A4_a_value ,round(a11,10), round(a10,10)))\n",
    "#plt.title(\"y = {} + {}x\".format(a10, a11)) # 标题\n",
    "plt.show()\n",
    "fig_name = \".\\\\figure\\\\A4_\" + (str)(A4_a_value) +\".png\"\n",
    "fig.savefig(fig_name)\n"
   ]
  },
  {
   "attachments": {},
   "cell_type": "markdown",
   "metadata": {},
   "source": [
    "## 计算 a = 0.25\n",
    "\n",
    "调用calculate_real_from_csv()计算策略之前协方差。\n",
    "\n",
    "调用A4_matrix_X()计算A4矩阵的实耦合。参数a = 0.25\n",
    "\n",
    "计算实耦合与协方差之间的相关系数"
   ]
  },
  {
   "cell_type": "code",
   "execution_count": 13,
   "metadata": {},
   "outputs": [
    {
     "name": "stdout",
     "output_type": "stream",
     "text": [
      "csv result : [0.00045318675249689407, 0.00022716733182596435, -0.00030439327043187836, -0.0003759608138909704, 0.0007870972013788304, 0.00022936011164975716, -0.0012436246448545476, 0.000463453208696322, -0.00038842004991420254, 0.0020080055086596966]\n",
      "eigen vector result : [0.38604316505976266, 0.19967749916884286, -0.26623666555845693, -0.3194839986701485, 0.6655916638961424, 0.19967749916884264, -1.064946662233828, 0.38604316505976266, -0.3194839986701485, 1.7039146595741248]\n",
      "the correlation coefficient is : 0.999961482742386\n"
     ]
    }
   ],
   "source": [
    "import pandas as pd\n",
    "from calculate import *\n",
    "from from_eigenvector_out_XY import *\n",
    "\n",
    "#A4 = Matrix([[0, 0, 0, a],\n",
    "#             [1, 0, 0, 0], \n",
    "#             [0, 1, 0, 0], \n",
    "#             [0, 0, 1, 0]])\n",
    "\n",
    "\n",
    "\n",
    "#the value for a , support in range[0.25,4]\n",
    "\n",
    "A4_a_value = 0.25\n",
    "\n",
    "#the csv file path\n",
    "A4_csv_name = '.\\\\data\\\\A4_'+(str)(A4_a_value)+'_Strategy_distributions.csv'\n",
    "\n",
    "#the start for calculating , The data before the start_round will be truncated when calculating\n",
    "start_round = 500\n",
    "\n",
    "#calculate_real_from_csv(csv_name,start_round):\n",
    "sum_lst2 = calculate_real_from_csv(A4_csv_name,start_round)\n",
    "print(\"csv result :\",sum_lst2)\n",
    "\n",
    "#A5_matrix_X(a_value,mode_col):\n",
    "xmn2 = A4_matrix_X(A4_a_value)\n",
    "print(\"eigen vector result :\",xmn2)\n",
    "\n",
    "\n",
    "#calculate the correlation coefficient\n",
    "data = pd.DataFrame(sum_lst2,columns=['A'])\n",
    "data['B']=xmn2\n",
    "cor2 = data.A.corr(data.B)\n",
    "print(\"the correlation coefficient is :\" ,cor2)\n",
    "\n",
    "result = pd.DataFrame()\n",
    "result[(str)(A4_a_value) + '_from_csv'] = sum_lst2\n",
    "result[(str)(A4_a_value) + '_from_matrix'] = xmn2\n",
    "result.to_csv('.\\\\result\\\\A4_' + (str)(A4_a_value) + '_result.csv')"
   ]
  },
  {
   "attachments": {},
   "cell_type": "markdown",
   "metadata": {},
   "source": [
    "## 数据分析 a = 0.25\n",
    "\n",
    "进行线性回归,绘制协方差和实耦合之间的拟合直线"
   ]
  },
  {
   "cell_type": "code",
   "execution_count": 16,
   "metadata": {},
   "outputs": [
    {
     "data": {
      "image/png": "[encoded data removed]",
      "text/plain": [
       "<Figure size 432x432 with 1 Axes>"
      ]
     },
     "metadata": {
      "needs_background": "light"
     },
     "output_type": "display_data"
    }
   ],
   "source": [
    "import numpy as np\n",
    "import matplotlib.pyplot as plt\n",
    "\n",
    "# 定义直线拟合函数\n",
    "def linear_regression(x, y): \n",
    "    N = len(x)\n",
    "    sumx = x.sum()\n",
    "    sumy = y.sum()\n",
    "    sumx2 = (x**2).sum()\n",
    "    sumxy = (x*y).sum()\n",
    "\n",
    "    A = np.mat([[N, sumx], [sumx, sumx2]])\n",
    "    b = np.array([sumy, sumxy])\n",
    " \n",
    "    return np.linalg.solve(A, b)\n",
    "\n",
    "A4_a_value = 0.25\n",
    "X,Y = np.array(xmn2),np.array(sum_lst2)\n",
    "a10, a11 = linear_regression(X, Y)\n",
    " \n",
    "# 生成拟合直线的绘制点\n",
    "_Y1 = np.array([a10 + a11 * x for x in X])\n",
    "\n",
    "# 画图\n",
    "fig = plt.figure(figsize=(6,6))\n",
    "plt.scatter(X,Y)\n",
    "plt.plot(X, _Y1, 'red', linewidth=2) \n",
    "plt.title(\"A4 a = {} : y = {}x + {}\".format(A4_a_value ,round(a11,10), round(a10,10)))\n",
    "#plt.title(\"y = {} + {}x\".format(a10, a11)) # 标题\n",
    "plt.show()\n",
    "fig_name = \".\\\\figure\\\\A4_\" + (str)(A4_a_value) +\".png\"\n",
    "fig.savefig(fig_name)\n"
   ]
  }
 ],
 "metadata": {
  "kernelspec": {
   "display_name": "base",
   "language": "python",
   "name": "python3"
  },
  "language_info": {
   "codemirror_mode": {
    "name": "ipython",
    "version": 3
   },
   "file_extension": ".py",
   "mimetype": "text/x-python",
   "name": "python",
   "nbconvert_exporter": "python",
   "pygments_lexer": "ipython3",
   "version": "3.9.12"
  },
  "orig_nbformat": 4
 },
 "nbformat": 4,
 "nbformat_minor": 2
}
